{
 "cells": [
  {
   "attachments": {},
   "cell_type": "markdown",
   "metadata": {},
   "source": [
    "### Proyecto 1 - Procesamiento de datos utilizando Apache Hive y Apache Zeppelin\n",
    "\n",
    "#### Análisis de Olimpiadas\n",
    "\n",
    "![Olympic Logo](https://pyt-blogs.imgix.net/2016/08/20140204000881966198-original.jpg)"
   ]
  },
  {
   "attachments": {},
   "cell_type": "markdown",
   "metadata": {},
   "source": [
    "#### Paso 1 - Descarga de archivos de datos que vamos a procesar"
   ]
  },
  {
   "cell_type": "code",
   "execution_count": null,
   "metadata": {},
   "outputs": [],
   "source": [
    "# Creamos los directorios\n",
    "hdfs dfs -mkdir -p /home/dataengineer/files\n",
    "hdfs dfs -mkdir -p /user/dataengineer/filesdata\n",
    "\n",
    "# Entrar al directorio\n",
    "cd /home/dataengineer/files\n",
    "\n",
    "# Descargamos de la red los archivos que vamos a utilizar\n",
    "wget https://raw.githubusercontent.com/hivesample/sample/main/athlete_events.csv\n",
    "wget https://raw.githubusercontent.com/hivesample/sample/main/noc_regions.csv \n",
    "\n",
    "# Luego copiamos los archivos a HDFS\n",
    "hdfs dfs -copyFromLocal athlete_events.csv /user/dataengineer/filesdata\n",
    "hdfs dfs -copyFromLocal noc_regions.csv /user/dataengineer/filesdata"
   ]
  },
  {
   "attachments": {},
   "cell_type": "markdown",
   "metadata": {},
   "source": [
    "#### Paso 2 - Descarga y ejecución de Apache Zeppelin"
   ]
  },
  {
   "cell_type": "code",
   "execution_count": null,
   "metadata": {},
   "outputs": [],
   "source": [
    "# Crear un directorio\n",
    "hdfs dfs -mkdir /home/dataengineer/zeppelin\n",
    "\n",
    "# Entrar al directorio\n",
    "cd /home/dataengineer/zeppelin\n",
    "\n",
    "# Descargar Apache Zeppelin\n",
    "wget https://dlcdn.apache.org/zeppelin/zeppelin-0.10.1/zeppelin-0.10.1-bin-all.tgz\n",
    "\n",
    "# Una vez Descargado\n",
    "tar -xvzf zeppelin-0.10.1-bin-all.tgz\n",
    "\n",
    "# Iniciar Apache Zeppelin usando comando\n",
    "bin/zeppelin-daemon.sh start\n",
    "\n",
    "# Detener Apache Zeppelin usando comando\n",
    "bin/zeppelin-daemon.sh stop"
   ]
  },
  {
   "attachments": {},
   "cell_type": "markdown",
   "metadata": {},
   "source": [
    "#### Paso 3 - Configuración del intérprete Hive en la interfaz gráfica de Apache Zeppelin"
   ]
  },
  {
   "cell_type": "code",
   "execution_count": null,
   "metadata": {},
   "outputs": [],
   "source": [
    "# Desde el navegador ingresamos a la interfaz gráfica de zeppelin\n",
    "https://localhost:8080/\n",
    "\n",
    "# Damos clic en \"anonymous\" y luego seleccionamos \"Interpreter\"\n",
    "\n",
    "# Luego, creamos un nuevo interprete:\n",
    "# Interpreter name: hive\n",
    "# Interpreter group: jdbc\n",
    "\n",
    "# En \"Propiedades\" ingresamos los siguientes datos:\n",
    "# default.url: jdbc:hive2://localhost:10000\n",
    "# default.user: dataengineer\n",
    "# default.password: (queda en blanco)\n",
    "# default.driver: org.apache.hive.jdbc.HiveDriver\n",
    "\n",
    "# Todas las otras propiedades que vienen a continuación de \"default.driver\" las eliminamos. \n",
    "# Solo necesitamos mantener 4 propiedades\n",
    "\n",
    "# Todo esto se extrajo de la documentación de Apache Zeppelin\n",
    "https://zeppelin.apache.org/docs/0.10.1/interpreter/hive.html\n",
    "\n",
    "# Para las \"Dependencias\" ingresamos lo siguiente:\n",
    "# org.apache.hive:hive-jdbc:0.14.0\n",
    "# org.apache.hadoop:hadoop-common:2.6.0\t\n",
    "\n",
    "# Finalmente \"Guardamos\""
   ]
  },
  {
   "attachments": {},
   "cell_type": "markdown",
   "metadata": {},
   "source": [
    "#### Paso 4 - Iniciar Hadoop, Hive y Zeppelin"
   ]
  },
  {
   "cell_type": "code",
   "execution_count": null,
   "metadata": {},
   "outputs": [],
   "source": [
    "# Buscamos el directorio donde realizamos la instalación de hadoop e ingresamos\n",
    "cd /home/dataengineer/hadoop/hadoop-3.3.2/\n",
    "\n",
    "# Iniciamos el sistema de archivos distribuidos\n",
    "sbin/start-dfs.sh\n",
    "\n",
    "# Iniciamos yarn\n",
    "sbin/start-yarn.sh\n",
    "\n",
    "# Buscamos el directorio donde realizamos la instalacion de hive e ingresamos\n",
    "cd /home/dataengineer/apachehive/apache-hive-3.1.2-bin/\n",
    "\n",
    "# Ejecutamos hive\n",
    "bin/hiveserver2\n",
    "\n",
    "# Buscamos el directorio donde realizamos la instalacion de zeppelin e ingresamos\n",
    "cd /home/dataengineer/zeppelin/zeppelin-0.10.1-bin-all/ \n",
    "\n",
    "# Ejecutamos zeppelin\n",
    "bin/zeppelin-daemon.sh start\n",
    "\n",
    "# Desde el navegador ingresamos a la interfaz gráfica de zeppelin\n",
    "https://localhost:8080/"
   ]
  },
  {
   "attachments": {},
   "cell_type": "markdown",
   "metadata": {},
   "source": [
    "#### Paso 5 - Creación de tablas y carga de datos en el notebook Zepellin"
   ]
  },
  {
   "cell_type": "code",
   "execution_count": null,
   "metadata": {},
   "outputs": [],
   "source": [
    "# Creamos la tabla athlete_events_final\n",
    "# Recordar que 'separatorChar' nos indica el separador \n",
    "# y 'quoteChar' nos indica el caracter a ignorar que se encuentre entre los separadores\n",
    "\n",
    "%Hive\n",
    "\n",
    "CREATE TABLE IF NOT EXISTS athlete_events_final (\n",
    "ID INT,\n",
    "Name string, \n",
    "Sex string, \n",
    "Age INT, \n",
    "Height INT, \n",
    "Weight INT,\n",
    "Team string, \n",
    "NOC string, \n",
    "Games string, \n",
    "Year INT, \n",
    "Season string, \n",
    "City string, \n",
    "Sport string, \n",
    "Event string, \n",
    "Medal string)\n",
    "COMMENT 'athlete events table'\n",
    "ROW FORMAT SERDE 'org.apache.hadoop.hive.serde2.OpenCSVSerde'\n",
    "WITH SERDEPROPERTIES \n",
    "(\n",
    "    \"separatorChar\" = \",\",\n",
    "    \"quoteChar\"     = \"\\\"\"\n",
    ")  \n",
    "TBLPROPERTIES(\"skip.header.line.COUNT\"=\"1\") "
   ]
  },
  {
   "cell_type": "code",
   "execution_count": null,
   "metadata": {},
   "outputs": [],
   "source": [
    "# Carga de datos\n",
    "\n",
    "%Hive\n",
    "\n",
    "LOAD DATA INPATH '/user/dataengineer/filesdata/athlete_events.csv' INTO TABLE athlete_events_final;"
   ]
  },
  {
   "cell_type": "code",
   "execution_count": null,
   "metadata": {},
   "outputs": [],
   "source": [
    "# Lanzamos una consulta para verificar que los datos se hayan cargado correctamente\n",
    "\n",
    "%Hive\n",
    "\n",
    "SELECT * FROM athlete_events_final;"
   ]
  },
  {
   "cell_type": "code",
   "execution_count": null,
   "metadata": {},
   "outputs": [],
   "source": [
    "# Creamos la tabla noc_regions\n",
    "\n",
    "%Hive\n",
    "\n",
    "CREATE TABLE IF NOT EXISTS noc_regions (\n",
    "NOC string,\n",
    "region string,\n",
    "notes string)\n",
    "COMMENT 'noc regions table'\n",
    "ROW FORMAT DELIMITED\n",
    "FIELDS TERMINATED BY ','\n",
    "TBLPROPERTIES(\"skip.header.line.COUNT\"=\"1\"); \n"
   ]
  },
  {
   "cell_type": "code",
   "execution_count": null,
   "metadata": {},
   "outputs": [],
   "source": [
    "# Carga de datos\n",
    "\n",
    "%Hive\n",
    "\n",
    "LOAD DATA INPATH '/user/dataengineer/filesdata/noc_regions.csv' INTO TABLE noc_regions;"
   ]
  },
  {
   "cell_type": "code",
   "execution_count": null,
   "metadata": {},
   "outputs": [],
   "source": [
    "# Lanzamos una consulta para verificar que los datos se hayan cargado correctamente\n",
    "\n",
    "%Hive\n",
    "\n",
    "SELECT * FROM noc_regions;"
   ]
  },
  {
   "attachments": {},
   "cell_type": "markdown",
   "metadata": {},
   "source": [
    "#### Paso 6 - Análisis de datos"
   ]
  },
  {
   "attachments": {},
   "cell_type": "markdown",
   "metadata": {},
   "source": [
    "##### Distribución de edad para los deportistas con medalla de oro"
   ]
  },
  {
   "cell_type": "code",
   "execution_count": null,
   "metadata": {
    "vscode": {
     "languageId": "sql"
    }
   },
   "outputs": [],
   "source": [
    "%Hive\n",
    "\n",
    "SELECT COUNT(Medal) AS Medals, Age \n",
    "FROM athlete_events_final \n",
    "WHERE Medal = 'Gold' \n",
    "GROUP BY Age \n",
    "ORDER BY Age ASC;"
   ]
  },
  {
   "attachments": {},
   "cell_type": "markdown",
   "metadata": {},
   "source": [
    "##### Medallas de oro para deportistas de más de 50 años según deportes"
   ]
  },
  {
   "cell_type": "code",
   "execution_count": null,
   "metadata": {
    "vscode": {
     "languageId": "sql"
    }
   },
   "outputs": [],
   "source": [
    "%Hive\n",
    "\n",
    "SELECT Sport, Age \n",
    "FROM athlete_events_final \n",
    "WHERE Medal = '\"Gold\"' \n",
    "AND Age >= 50; "
   ]
  },
  {
   "attachments": {},
   "cell_type": "markdown",
   "metadata": {},
   "source": [
    "##### Medallas femeninas por edición (temporada de verano) de los juegos"
   ]
  },
  {
   "cell_type": "code",
   "execution_count": null,
   "metadata": {
    "vscode": {
     "languageId": "sql"
    }
   },
   "outputs": [],
   "source": [
    "%Hive\n",
    "\n",
    "SELECT COUNT(Medal) AS Medals, Year \n",
    "FROM athlete_events_final \n",
    "WHERE Sex = '\"F\"' \n",
    "AND Season = '\"Summer\"' \n",
    "AND Medal IN ('\"Bronze\"','\"Gold\"','\"Silver\"') \n",
    "GROUP BY Year ORDER BY Year ASC;"
   ]
  },
  {
   "attachments": {},
   "cell_type": "markdown",
   "metadata": {},
   "source": [
    "##### 5 países con más medallas de oro"
   ]
  },
  {
   "cell_type": "code",
   "execution_count": null,
   "metadata": {
    "vscode": {
     "languageId": "sql"
    }
   },
   "outputs": [],
   "source": [
    "%Hive\n",
    "\n",
    "SELECT COUNT(Medal) AS Medals, region \n",
    "FROM athlete_events_final A \n",
    "JOIN noc_regions N \n",
    "ON A.NOC = N.NOC  \n",
    "WHERE Medal = 'Gold' \n",
    "GROUP BY region \n",
    "ORDER BY Medals DESC LIMIT 5; "
   ]
  },
  {
   "attachments": {},
   "cell_type": "markdown",
   "metadata": {},
   "source": [
    "##### Disciplinas con mayor número de medallas de oro para USA"
   ]
  },
  {
   "cell_type": "code",
   "execution_count": null,
   "metadata": {
    "vscode": {
     "languageId": "sql"
    }
   },
   "outputs": [],
   "source": [
    "%Hive\n",
    "\n",
    "SELECT COUNT(Medal) AS Medals, Event \n",
    "FROM athlete_events_final A \n",
    "JOIN noc_regions N \n",
    "ON A.NOC = N.NOC  \n",
    "WHERE Medal = 'Gold' \n",
    "AND A.NOC = 'USA' \n",
    "GROUP BY Event \n",
    "ORDER BY Medals DESC; "
   ]
  },
  {
   "attachments": {},
   "cell_type": "markdown",
   "metadata": {},
   "source": [
    "##### Altura frente a Peso de los medallistas de oro olímpicos"
   ]
  },
  {
   "cell_type": "code",
   "execution_count": null,
   "metadata": {
    "vscode": {
     "languageId": "sql"
    }
   },
   "outputs": [],
   "source": [
    "%Hive\n",
    "\n",
    "SELECT Weight, Height \n",
    "FROM athlete_events_final \n",
    "WHERE  Medal = 'Gold'; "
   ]
  },
  {
   "attachments": {},
   "cell_type": "markdown",
   "metadata": {},
   "source": [
    "##### Variación del atleta masculino a lo largo del tiempo"
   ]
  },
  {
   "cell_type": "code",
   "execution_count": null,
   "metadata": {
    "vscode": {
     "languageId": "sql"
    }
   },
   "outputs": [],
   "source": [
    "%Hive\n",
    "\n",
    "SELECT COUNT(Sex) AS Males, Year \n",
    "FROM athlete_events_final \n",
    "WHERE Sex = 'M' \n",
    "AND Season = 'Summer'\n",
    "GROUP BY Year\n",
    "ORDER BY Year ASC; "
   ]
  },
  {
   "attachments": {},
   "cell_type": "markdown",
   "metadata": {},
   "source": [
    "##### Variación del atleta femenino a lo largo del tiempo"
   ]
  },
  {
   "cell_type": "code",
   "execution_count": null,
   "metadata": {
    "vscode": {
     "languageId": "sql"
    }
   },
   "outputs": [],
   "source": [
    "%Hive\n",
    "\n",
    "SELECT COUNT(Sex) AS Females, Year \n",
    "FROM athlete_events_final \n",
    "WHERE Sex = 'F' \n",
    "AND Season = 'Summer'\n",
    "GROUP BY Year \n",
    "ORDER BY Year ASC; "
   ]
  },
  {
   "attachments": {},
   "cell_type": "markdown",
   "metadata": {},
   "source": [
    "##### Variación de la edad de los deportistas masculinos a lo largo del tiempo"
   ]
  },
  {
   "cell_type": "code",
   "execution_count": null,
   "metadata": {
    "vscode": {
     "languageId": "sql"
    }
   },
   "outputs": [],
   "source": [
    "%Hive\n",
    "\n",
    "SELECT MIN(Age), AVG(Age), MAX(Age), Year \n",
    "FROM athlete_events_final \n",
    "WHERE Sex = 'M' \n",
    "GROUP BY Year \n",
    "ORDER BY Year ASC; "
   ]
  },
  {
   "attachments": {},
   "cell_type": "markdown",
   "metadata": {},
   "source": [
    "##### Variación de la edad de las deportistas femeninas a lo largo del tiempo"
   ]
  },
  {
   "cell_type": "code",
   "execution_count": null,
   "metadata": {
    "vscode": {
     "languageId": "sql"
    }
   },
   "outputs": [],
   "source": [
    "%Hive\n",
    "\n",
    "SET hive.auto.convert.join=false;\n",
    "\n",
    "SELECT MIN(Age), AVG(Age), MAX(Age), Year \n",
    "FROM athlete_events_final \n",
    "WHERE Sex = 'F' \n",
    "GROUP BY Year \n",
    "ORDER BY Year ASC; "
   ]
  },
  {
   "attachments": {},
   "cell_type": "markdown",
   "metadata": {},
   "source": [
    "##### Variación del peso de los deportistas masculinos a lo largo del tiempo"
   ]
  },
  {
   "cell_type": "code",
   "execution_count": null,
   "metadata": {
    "vscode": {
     "languageId": "sql"
    }
   },
   "outputs": [],
   "source": [
    "%Hive\n",
    "\n",
    "SELECT MIN(Weight), AVG(Weight), MAX(Weight), Year \n",
    "FROM athlete_events_final \n",
    "WHERE Sex = 'M' \n",
    "GROUP BY Year \n",
    "ORDER BY Year ASC; "
   ]
  },
  {
   "attachments": {},
   "cell_type": "markdown",
   "metadata": {},
   "source": [
    "##### Variación del peso de las deportistas femeninas a lo largo del tiempo"
   ]
  },
  {
   "cell_type": "code",
   "execution_count": null,
   "metadata": {
    "vscode": {
     "languageId": "sql"
    }
   },
   "outputs": [],
   "source": [
    "%Hive\n",
    "\n",
    "SELECT MIN(Weight), AVG(Weight), MAX(Weight), Year \n",
    "FROM athlete_events_final \n",
    "WHERE Sex = 'F' \n",
    "AND Year > 1925 \n",
    "GROUP BY Year \n",
    "ORDER BY Year ASC; "
   ]
  },
  {
   "attachments": {},
   "cell_type": "markdown",
   "metadata": {},
   "source": [
    "##### Variación de la altura de los deportistas masculinos a lo largo del tiempo"
   ]
  },
  {
   "cell_type": "code",
   "execution_count": null,
   "metadata": {
    "vscode": {
     "languageId": "sql"
    }
   },
   "outputs": [],
   "source": [
    "%Hive\n",
    "\n",
    "SELECT MIN(Height), AVG(Height), MAX(Height), Year \n",
    "FROM athlete_events_final \n",
    "WHERE Sex = 'M' \n",
    "GROUP BY Year \n",
    "ORDER BY Year ASC; "
   ]
  },
  {
   "attachments": {},
   "cell_type": "markdown",
   "metadata": {},
   "source": [
    "##### Variación de la altura de las deportistas femeninas a lo largo del tiempo"
   ]
  },
  {
   "cell_type": "code",
   "execution_count": null,
   "metadata": {
    "vscode": {
     "languageId": "sql"
    }
   },
   "outputs": [],
   "source": [
    "%Hive\n",
    "\n",
    "SELECT MIN(Height), AVG(Height), MAX(Height), Year \n",
    "FROM athlete_events_final \n",
    "WHERE Sex = 'F' \n",
    "GROUP BY Year \n",
    "ORDER BY Year ASC; "
   ]
  },
  {
   "attachments": {},
   "cell_type": "markdown",
   "metadata": {},
   "source": [
    "##### Peso a lo largo de los años de los gimnastas masculinos"
   ]
  },
  {
   "cell_type": "code",
   "execution_count": null,
   "metadata": {
    "vscode": {
     "languageId": "sql"
    }
   },
   "outputs": [],
   "source": [
    "%Hive\n",
    "\n",
    "SELECT MIN(Weight), AVG(Weight), MAX(Weight), Year \n",
    "FROM athlete_events_final \n",
    "WHERE Sport = 'Gymnastics' \n",
    "AND Sex = 'M' \n",
    "AND Year > 1950 \n",
    "GROUP BY Year \n",
    "ORDER BY Year;"
   ]
  },
  {
   "attachments": {},
   "cell_type": "markdown",
   "metadata": {},
   "source": [
    "##### Peso a lo largo de los años de las gimnastas femeninas"
   ]
  },
  {
   "cell_type": "code",
   "execution_count": null,
   "metadata": {
    "vscode": {
     "languageId": "sql"
    }
   },
   "outputs": [],
   "source": [
    "%Hive\n",
    "\n",
    "SELECT MIN(Weight), AVG(Weight), MAX(Weight), Year \n",
    "FROM athlete_events_final \n",
    "WHERE Sport = 'Gymnastics' \n",
    "AND Sex = 'F' \n",
    "AND Year > 1950 \n",
    "GROUP BY Year ORDER BY Year;"
   ]
  },
  {
   "attachments": {},
   "cell_type": "markdown",
   "metadata": {},
   "source": [
    "##### Peso a lo largo de los años para levantadores masculinos"
   ]
  },
  {
   "cell_type": "code",
   "execution_count": null,
   "metadata": {
    "vscode": {
     "languageId": "sql"
    }
   },
   "outputs": [],
   "source": [
    "%Hive\n",
    "\n",
    "SELECT MIN(Weight), AVG(Weight), MAX(Weight), Year \n",
    "FROM athlete_events_final \n",
    "WHERE Sport = 'Weightlifting' \n",
    "AND Sex = 'M' \n",
    "AND Year > 1950 \n",
    "GROUP BY Year ORDER BY Year;"
   ]
  },
  {
   "attachments": {},
   "cell_type": "markdown",
   "metadata": {},
   "source": [
    "##### Peso a lo largo de los años para levantadoras femeninos"
   ]
  },
  {
   "cell_type": "code",
   "execution_count": null,
   "metadata": {
    "vscode": {
     "languageId": "sql"
    }
   },
   "outputs": [],
   "source": [
    "%Hive\n",
    "\n",
    "SELECT MIN(Weight), AVG(Weight), MAX(Weight), Year \n",
    "FROM athlete_events_final \n",
    "WHERE Sport = 'Weightlifting' \n",
    "AND Sex = 'F' \n",
    "AND Year > 1950 \n",
    "GROUP BY Year \n",
    "ORDER BY Year;"
   ]
  },
  {
   "attachments": {},
   "cell_type": "markdown",
   "metadata": {},
   "source": [
    "##### Altura a lo largo de los años para levantadores masculinos"
   ]
  },
  {
   "cell_type": "code",
   "execution_count": null,
   "metadata": {
    "vscode": {
     "languageId": "sql"
    }
   },
   "outputs": [],
   "source": [
    "%Hive\n",
    "\n",
    "SELECT MIN(Height), AVG(Height), MAX(Height), Year \n",
    "FROM athlete_events_final \n",
    "WHERE Sport = 'Weightlifting' \n",
    "AND Sex = 'M' \n",
    "AND Year > 1950 \n",
    "GROUP BY Year \n",
    "ORDER BY Year;"
   ]
  },
  {
   "attachments": {},
   "cell_type": "markdown",
   "metadata": {},
   "source": [
    "##### Altura a lo largo de los años para levantadoras femeninas"
   ]
  },
  {
   "cell_type": "code",
   "execution_count": null,
   "metadata": {
    "vscode": {
     "languageId": "sql"
    }
   },
   "outputs": [],
   "source": [
    "%Hive\n",
    "\n",
    "SELECT MIN(Height), AVG(Height), MAX(Height), Year \n",
    "FROM athlete_events_final \n",
    "WHERE Sport = 'Weightlifting' \n",
    "AND Sex = 'F' \n",
    "AND Year > 1950 \n",
    "GROUP BY Year \n",
    "ORDER BY Year;"
   ]
  },
  {
   "attachments": {},
   "cell_type": "markdown",
   "metadata": {},
   "source": [
    "##### Medallas de oro según pais"
   ]
  },
  {
   "cell_type": "code",
   "execution_count": null,
   "metadata": {
    "vscode": {
     "languageId": "sql"
    }
   },
   "outputs": [],
   "source": [
    "%Hive\n",
    "\n",
    "SELECT COUNT(Medal) AS Medals, N.NOC \n",
    "FROM athlete_events_final A \n",
    "JOIN noc_regions N \n",
    "ON A.NOC = N.NOC  \n",
    "WHERE Medal = 'Gold' \n",
    "GROUP BY N.NOC"
   ]
  },
  {
   "attachments": {},
   "cell_type": "markdown",
   "metadata": {},
   "source": [
    "##### Medallas de plata según pais"
   ]
  },
  {
   "cell_type": "code",
   "execution_count": null,
   "metadata": {
    "vscode": {
     "languageId": "sql"
    }
   },
   "outputs": [],
   "source": [
    "%Hive\n",
    "\n",
    "SELECT COUNT(Medal) AS Medals, N.NOC \n",
    "FROM athlete_events_final A \n",
    "JOIN noc_regions N \n",
    "ON A.NOC = N.NOC  \n",
    "WHERE Medal = 'Silver' \n",
    "GROUP BY N.NOC"
   ]
  },
  {
   "attachments": {},
   "cell_type": "markdown",
   "metadata": {},
   "source": [
    "##### Medallas de bronce según pais"
   ]
  },
  {
   "cell_type": "code",
   "execution_count": null,
   "metadata": {
    "vscode": {
     "languageId": "sql"
    }
   },
   "outputs": [],
   "source": [
    "%Hive\n",
    "\n",
    "SELECT COUNT(Medal) AS Medals, N.NOC \n",
    "FROM athlete_events_final A \n",
    "JOIN noc_regions N \n",
    "ON A.NOC = N.NOC  \n",
    "WHERE Medal = 'Bronze' \n",
    "GROUP BY N.NOC"
   ]
  }
 ],
 "metadata": {
  "kernelspec": {
   "display_name": "base",
   "language": "python",
   "name": "python3"
  },
  "language_info": {
   "codemirror_mode": {
    "name": "ipython",
    "version": 3
   },
   "file_extension": ".py",
   "mimetype": "text/x-python",
   "name": "python",
   "nbconvert_exporter": "python",
   "pygments_lexer": "ipython3",
   "version": "3.9.5"
  },
  "orig_nbformat": 4
 },
 "nbformat": 4,
 "nbformat_minor": 2
}
